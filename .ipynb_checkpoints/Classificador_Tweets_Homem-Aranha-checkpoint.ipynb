{
 "cells": [
  {
   "cell_type": "markdown",
   "metadata": {},
   "source": [
    "# Projeto 1 - Ciência dos Dados"
   ]
  },
  {
   "cell_type": "markdown",
   "metadata": {},
   "source": [
    "Nome: Arthur Pansini\n",
    "\n",
    "Nome: Caio Ribeiro"
   ]
  },
  {
   "cell_type": "markdown",
   "metadata": {},
   "source": [
    "Atenção: Serão permitidos grupos de três pessoas, mas com uma rubrica mais exigente. Grupos deste tamanho precisarão fazer um questionário de avaliação de trabalho em equipe"
   ]
  },
  {
   "cell_type": "markdown",
   "metadata": {},
   "source": [
    "___\n",
    "Carregando algumas bibliotecas:"
   ]
  },
  {
   "cell_type": "code",
   "execution_count": 1,
   "metadata": {},
   "outputs": [],
   "source": [
    "%matplotlib inline\n",
    "import pandas as pd\n",
    "import matplotlib.pyplot as plt\n",
    "import numpy as np\n",
    "import os \n",
    "import nltk\n",
    "import re"
   ]
  },
  {
   "cell_type": "code",
   "execution_count": 2,
   "metadata": {
    "scrolled": false
   },
   "outputs": [
    {
     "name": "stdout",
     "output_type": "stream",
     "text": [
      "Esperamos trabalhar no diretório\n",
      "C:\\Users\\caior\\OneDrive\\Faculdade\\2° PERÍODO\\Ciência dos Dados\\Projetos\\Homem-Aranha\n"
     ]
    }
   ],
   "source": [
    "print('Esperamos trabalhar no diretório')\n",
    "print(os.getcwd())"
   ]
  },
  {
   "cell_type": "markdown",
   "metadata": {},
   "source": [
    "Carregando a base de dados com os tweets classificados como relevantes e não relevantes:"
   ]
  },
  {
   "cell_type": "code",
   "execution_count": 3,
   "metadata": {},
   "outputs": [],
   "source": [
    "filename = 'Homem aranha.xlsx'"
   ]
  },
  {
   "cell_type": "code",
   "execution_count": 4,
   "metadata": {},
   "outputs": [
    {
     "data": {
      "text/html": [
       "<div>\n",
       "<style scoped>\n",
       "    .dataframe tbody tr th:only-of-type {\n",
       "        vertical-align: middle;\n",
       "    }\n",
       "\n",
       "    .dataframe tbody tr th {\n",
       "        vertical-align: top;\n",
       "    }\n",
       "\n",
       "    .dataframe thead th {\n",
       "        text-align: right;\n",
       "    }\n",
       "</style>\n",
       "<table border=\"1\" class=\"dataframe\">\n",
       "  <thead>\n",
       "    <tr style=\"text-align: right;\">\n",
       "      <th></th>\n",
       "      <th>Treinamento</th>\n",
       "      <th>Classificação</th>\n",
       "    </tr>\n",
       "  </thead>\n",
       "  <tbody>\n",
       "    <tr>\n",
       "      <th>0</th>\n",
       "      <td>tá, com \"god of war: ragnarok\", \"homem-aranha ...</td>\n",
       "      <td>0</td>\n",
       "    </tr>\n",
       "    <tr>\n",
       "      <th>1</th>\n",
       "      <td>@flamenguismo_ @venecasagrande os cara se enco...</td>\n",
       "      <td>0</td>\n",
       "    </tr>\n",
       "    <tr>\n",
       "      <th>2</th>\n",
       "      <td>assisti venom e amei. agora vou ver todos os f...</td>\n",
       "      <td>0</td>\n",
       "    </tr>\n",
       "    <tr>\n",
       "      <th>3</th>\n",
       "      <td>@gabriel71551446 @oswaldooell @n3m_ai @xboxnat...</td>\n",
       "      <td>0</td>\n",
       "    </tr>\n",
       "    <tr>\n",
       "      <th>4</th>\n",
       "      <td>sério mesmo, eu quero muito assistir homem ara...</td>\n",
       "      <td>0</td>\n",
       "    </tr>\n",
       "  </tbody>\n",
       "</table>\n",
       "</div>"
      ],
      "text/plain": [
       "                                         Treinamento  Classificação\n",
       "0  tá, com \"god of war: ragnarok\", \"homem-aranha ...              0\n",
       "1  @flamenguismo_ @venecasagrande os cara se enco...              0\n",
       "2  assisti venom e amei. agora vou ver todos os f...              0\n",
       "3  @gabriel71551446 @oswaldooell @n3m_ai @xboxnat...              0\n",
       "4  sério mesmo, eu quero muito assistir homem ara...              0"
      ]
     },
     "execution_count": 4,
     "metadata": {},
     "output_type": "execute_result"
    }
   ],
   "source": [
    "train = pd.read_excel(filename)\n",
    "train.head()"
   ]
  },
  {
   "cell_type": "code",
   "execution_count": 5,
   "metadata": {},
   "outputs": [
    {
     "data": {
      "text/html": [
       "<div>\n",
       "<style scoped>\n",
       "    .dataframe tbody tr th:only-of-type {\n",
       "        vertical-align: middle;\n",
       "    }\n",
       "\n",
       "    .dataframe tbody tr th {\n",
       "        vertical-align: top;\n",
       "    }\n",
       "\n",
       "    .dataframe thead th {\n",
       "        text-align: right;\n",
       "    }\n",
       "</style>\n",
       "<table border=\"1\" class=\"dataframe\">\n",
       "  <thead>\n",
       "    <tr style=\"text-align: right;\">\n",
       "      <th></th>\n",
       "      <th>Teste</th>\n",
       "      <th>Classificação</th>\n",
       "    </tr>\n",
       "  </thead>\n",
       "  <tbody>\n",
       "    <tr>\n",
       "      <th>0</th>\n",
       "      <td>amo homem aranha</td>\n",
       "      <td>1</td>\n",
       "    </tr>\n",
       "    <tr>\n",
       "      <th>1</th>\n",
       "      <td>@drika_nozes na verdade esse é o plot de homem...</td>\n",
       "      <td>0</td>\n",
       "    </tr>\n",
       "    <tr>\n",
       "      <th>2</th>\n",
       "      <td>@vicgabil @cinepop falou que vai estrear na me...</td>\n",
       "      <td>0</td>\n",
       "    </tr>\n",
       "    <tr>\n",
       "      <th>3</th>\n",
       "      <td>@goodnerd23 os dois👍 só n sei como vou aguenta...</td>\n",
       "      <td>0</td>\n",
       "    </tr>\n",
       "    <tr>\n",
       "      <th>4</th>\n",
       "      <td>@cacocardassi homem aranha, óbvio!!</td>\n",
       "      <td>1</td>\n",
       "    </tr>\n",
       "  </tbody>\n",
       "</table>\n",
       "</div>"
      ],
      "text/plain": [
       "                                               Teste  Classificação\n",
       "0                                   amo homem aranha              1\n",
       "1  @drika_nozes na verdade esse é o plot de homem...              0\n",
       "2  @vicgabil @cinepop falou que vai estrear na me...              0\n",
       "3  @goodnerd23 os dois👍 só n sei como vou aguenta...              0\n",
       "4                @cacocardassi homem aranha, óbvio!!              1"
      ]
     },
     "execution_count": 5,
     "metadata": {},
     "output_type": "execute_result"
    }
   ],
   "source": [
    "test = pd.read_excel(filename, sheet_name = 'Teste')\n",
    "test.head()"
   ]
  },
  {
   "cell_type": "markdown",
   "metadata": {},
   "source": [
    "___\n",
    "## Classificador automático de sentimento\n"
   ]
  },
  {
   "cell_type": "markdown",
   "metadata": {},
   "source": [
    "Faça aqui uma descrição do seu produto e o que considerou como relevante ou não relevante na classificação dos tweets.\n",
    "\n",
    "**Descrição:** Consideramos relevante todo comentário referente ao universo Homem-Aranha (quadrinhos, filmes e jogos) e principalmente opiniões do público geral referente às obras do Homem-Aranha."
   ]
  },
  {
   "cell_type": "markdown",
   "metadata": {},
   "source": [
    "___\n",
    "### Montando um Classificador Naive-Bayes\n",
    "\n",
    "Considerando apenas as mensagens da planilha Treinamento, ensine  seu classificador."
   ]
  },
  {
   "cell_type": "code",
   "execution_count": 6,
   "metadata": {},
   "outputs": [
    {
     "name": "stdout",
     "output_type": "stream",
     "text": [
      "caio ribeiro\n"
     ]
    }
   ],
   "source": [
    "# Retirando pontuações dos tweets\n",
    "def cleanup(tweet):\n",
    "    punctuation = '[(\\n”\\-/!.:?;,''\"#)]'             \n",
    "    pattern = re.compile(punctuation)\n",
    "    text_subbed = re.sub(pattern,'', tweet)\n",
    "    return text_subbed\n",
    "print(cleanup('caio ribeiro!'))"
   ]
  },
  {
   "cell_type": "code",
   "execution_count": 7,
   "metadata": {},
   "outputs": [],
   "source": [
    "def limpa_marcacao(lista):\n",
    "    sem_marc = []\n",
    "    for palavra in lista:\n",
    "        if not 'https' in palavra:\n",
    "            if not '@' in palavra:\n",
    "                sem_marc.append(palavra)\n",
    "        else:\n",
    "            continue\n",
    "    return sem_marc"
   ]
  },
  {
   "cell_type": "code",
   "execution_count": 8,
   "metadata": {},
   "outputs": [],
   "source": [
    "def limpa_marcacao1(linha):\n",
    "    sem_marc = []\n",
    "    for palavra in linha.split():\n",
    "        if not 'https' in palavra:\n",
    "            if not '@' in palavra:\n",
    "                sem_marc.append(palavra)\n",
    "        else:\n",
    "            continue\n",
    "    return sem_marc"
   ]
  },
  {
   "cell_type": "code",
   "execution_count": 9,
   "metadata": {},
   "outputs": [],
   "source": [
    "def treinamento(dataframe):\n",
    "    palavras = []\n",
    "    for linha in dataframe.Treinamento:\n",
    "        linha = cleanup(linha)\n",
    "        for palavra in limpa_marcacao(linha.split()):\n",
    "            palavras.append(palavra)\n",
    "    return palavras"
   ]
  },
  {
   "cell_type": "code",
   "execution_count": 10,
   "metadata": {},
   "outputs": [],
   "source": [
    "def treinamento1(dataframe):\n",
    "    frases = []\n",
    "    for linha in dataframe.Treinamento:\n",
    "        linha = limpa_marcacao1(cleanup(linha))\n",
    "        frases.append(linha)\n",
    "    return frases"
   ]
  },
  {
   "cell_type": "code",
   "execution_count": 11,
   "metadata": {},
   "outputs": [],
   "source": [
    "train1 = train.loc[train.Classificação == 1]\n",
    "train2 = train.loc[train.Classificação == 0]"
   ]
  },
  {
   "cell_type": "code",
   "execution_count": 12,
   "metadata": {},
   "outputs": [
    {
     "data": {
      "text/plain": [
       "aranha      253\n",
       "homem       249\n",
       "o           187\n",
       "do          168\n",
       "e           144\n",
       "           ... \n",
       "minuto        1\n",
       "vendendo      1\n",
       "awards        1\n",
       "spoiler       1\n",
       "loki          1\n",
       "Length: 1502, dtype: int64"
      ]
     },
     "execution_count": 12,
     "metadata": {},
     "output_type": "execute_result"
    }
   ],
   "source": [
    "planilha_treinamento = pd.Series(treinamento(train))\n",
    "palavras_relevantes = pd.Series(treinamento(train1))\n",
    "palavras_irrelevantes = pd.Series(treinamento(train2))\n",
    "planilha_treinamento.value_counts()"
   ]
  },
  {
   "cell_type": "code",
   "execution_count": 13,
   "metadata": {},
   "outputs": [],
   "source": [
    "relevantes = palavras_relevantes.value_counts()\n",
    "irrelevantes = palavras_irrelevantes.value_counts()"
   ]
  },
  {
   "cell_type": "code",
   "execution_count": 14,
   "metadata": {},
   "outputs": [
    {
     "data": {
      "text/plain": [
       "1802"
      ]
     },
     "execution_count": 14,
     "metadata": {},
     "output_type": "execute_result"
    }
   ],
   "source": [
    "total = len(relevantes) + len(irrelevantes)\n",
    "total"
   ]
  },
  {
   "cell_type": "code",
   "execution_count": 15,
   "metadata": {},
   "outputs": [],
   "source": [
    "relevantes_rel = palavras_relevantes.value_counts(True)\n",
    "irrelevantes_rel = palavras_irrelevantes.value_counts(True)"
   ]
  },
  {
   "cell_type": "code",
   "execution_count": 16,
   "metadata": {},
   "outputs": [],
   "source": [
    "total_relevantes = relevantes.sum()\n",
    "total_irrelevantes = irrelevantes.sum()\n",
    "total_palavras = total_relevantes + total_irrelevantes"
   ]
  },
  {
   "cell_type": "markdown",
   "metadata": {},
   "source": [
    "___\n",
    "### Verificando a performance do Classificador\n",
    "\n",
    "Agora você deve testar o seu classificador com a base de Testes."
   ]
  },
  {
   "cell_type": "code",
   "execution_count": 17,
   "metadata": {},
   "outputs": [],
   "source": [
    "test1 = test.loc[test.Classificação == 1]\n",
    "test2 = test.loc[test.Classificação == 0]"
   ]
  },
  {
   "cell_type": "code",
   "execution_count": 18,
   "metadata": {},
   "outputs": [],
   "source": [
    "def teste(dataframe):\n",
    "    palavras = []\n",
    "    for linha in dataframe.Teste:\n",
    "        linha = cleanup(linha)\n",
    "        for palavra in limpa_marcacao(linha.split()):\n",
    "            palavras.append(palavra)\n",
    "    return palavras"
   ]
  },
  {
   "cell_type": "code",
   "execution_count": 19,
   "metadata": {},
   "outputs": [],
   "source": [
    "def teste1(dataframe):\n",
    "    frases = []\n",
    "    for linha in dataframe.Teste:\n",
    "        linha = limpa_marcacao1(cleanup(linha))\n",
    "        frases.append(linha)\n",
    "    return frases"
   ]
  },
  {
   "cell_type": "code",
   "execution_count": 20,
   "metadata": {},
   "outputs": [],
   "source": [
    "palavras_test = pd.Series(teste(test))\n",
    "palavras_relevantes_test = pd.Series(teste(test1))\n",
    "palavras_irrelevantes_test = pd.Series(teste(test2))\n",
    "planilha_teste = palavras_test.value_counts()"
   ]
  },
  {
   "cell_type": "code",
   "execution_count": 21,
   "metadata": {},
   "outputs": [
    {
     "data": {
      "text/plain": [
       "homem     69\n",
       "aranha    68\n",
       "o         45\n",
       "do        38\n",
       "de        33\n",
       "dtype: int64"
      ]
     },
     "execution_count": 21,
     "metadata": {},
     "output_type": "execute_result"
    }
   ],
   "source": [
    "relevantes_test = palavras_relevantes_test.value_counts()\n",
    "irrelevantes_test = palavras_irrelevantes_test.value_counts()\n",
    "relevantes_test.head()"
   ]
  },
  {
   "cell_type": "code",
   "execution_count": 22,
   "metadata": {},
   "outputs": [],
   "source": [
    "total_test = len(relevantes_test) + len(irrelevantes_test)"
   ]
  },
  {
   "cell_type": "code",
   "execution_count": 23,
   "metadata": {},
   "outputs": [],
   "source": [
    "probR = len(relevantes)/total\n",
    "probI = len(irrelevantes)/total"
   ]
  },
  {
   "cell_type": "code",
   "execution_count": 24,
   "metadata": {},
   "outputs": [
    {
     "name": "stdout",
     "output_type": "stream",
     "text": [
      "[0, 0, 0, 0, 0, 0, 0, 0, 0, 0, 0, 0, 0, 0, 0, 0, 0, 0, 0, 0, 0, 0, 0, 0, 0, 0, 0, 0, 0, 0, 0, 0, 0, 0, 0, 1, 0, 0, 0, 0, 0, 0, 0, 0, 0, 0, 0, 0, 0, 0, 0, 0, 0, 0, 0, 0, 0, 0, 0, 0, 1, 0, 0, 0, 0, 0, 0, 0, 0, 0, 0, 0, 0, 0, 0, 0, 0, 0, 0, 0, 0, 0, 0, 0, 0, 0, 0, 0, 0, 0, 0, 0, 0, 0, 0, 0, 0, 0, 0, 0, 0, 0, 0, 0, 0, 0, 0, 0, 0, 0, 1, 0, 0, 0, 0, 0, 0, 0, 0, 0, 0, 0, 0, 0, 0, 0, 0, 0, 0, 0, 0, 0, 0, 0, 0, 0, 0, 0, 0, 0, 0, 0, 0, 0, 0, 0, 0, 0, 0, 0, 0, 0, 0, 0, 0, 0, 0, 0, 0, 0, 0, 0, 0, 0, 0, 0, 0, 0, 0, 0, 0, 0, 0, 0, 0, 0, 0, 0, 1, 0, 0, 0, 0, 0, 0, 0, 0, 0, 0, 0, 0, 0, 0, 0, 0, 0, 0, 0, 0, 0]\n"
     ]
    }
   ],
   "source": [
    "def classifica(dataframe):\n",
    "    algoritmo = []\n",
    "\n",
    "    for frase in teste1(dataframe):\n",
    "        probPalavraDadoR = 1\n",
    "        probPalavraDadoI = 1\n",
    "        for palavra in frase:\n",
    "            if not palavra in relevantes.keys():\n",
    "                relevantes[palavra] = 0\n",
    "            if not palavra in irrelevantes.keys():\n",
    "                irrelevantes[palavra] = 0\n",
    "            \n",
    "            probPalavraDadoR *= (relevantes[palavra] + 1)/(len(relevantes) + total_test)\n",
    "            probPalavraDadoI *= (irrelevantes[palavra] + 1)/(len(irrelevantes) + total_test)\n",
    "\n",
    "        probRDadoPalavra = probPalavraDadoR*probR\n",
    "        probIDadoPalavra = probPalavraDadoI*probI\n",
    "        \n",
    "        if probRDadoPalavra > probIDadoPalavra:\n",
    "            algoritmo.append(1)\n",
    "        else:\n",
    "            algoritmo.append(0)\n",
    "    return algoritmo\n",
    "\n",
    "print(classifica(test))"
   ]
  },
  {
   "cell_type": "code",
   "execution_count": 25,
   "metadata": {},
   "outputs": [
    {
     "data": {
      "text/html": [
       "<div>\n",
       "<style scoped>\n",
       "    .dataframe tbody tr th:only-of-type {\n",
       "        vertical-align: middle;\n",
       "    }\n",
       "\n",
       "    .dataframe tbody tr th {\n",
       "        vertical-align: top;\n",
       "    }\n",
       "\n",
       "    .dataframe thead th {\n",
       "        text-align: right;\n",
       "    }\n",
       "</style>\n",
       "<table border=\"1\" class=\"dataframe\">\n",
       "  <thead>\n",
       "    <tr style=\"text-align: right;\">\n",
       "      <th></th>\n",
       "      <th>Teste</th>\n",
       "      <th>Classificação</th>\n",
       "      <th>Algoritmo</th>\n",
       "    </tr>\n",
       "  </thead>\n",
       "  <tbody>\n",
       "    <tr>\n",
       "      <th>0</th>\n",
       "      <td>amo homem aranha</td>\n",
       "      <td>1</td>\n",
       "      <td>0</td>\n",
       "    </tr>\n",
       "    <tr>\n",
       "      <th>1</th>\n",
       "      <td>@drika_nozes na verdade esse é o plot de homem...</td>\n",
       "      <td>0</td>\n",
       "      <td>0</td>\n",
       "    </tr>\n",
       "    <tr>\n",
       "      <th>2</th>\n",
       "      <td>@vicgabil @cinepop falou que vai estrear na me...</td>\n",
       "      <td>0</td>\n",
       "      <td>0</td>\n",
       "    </tr>\n",
       "    <tr>\n",
       "      <th>3</th>\n",
       "      <td>@goodnerd23 os dois👍 só n sei como vou aguenta...</td>\n",
       "      <td>0</td>\n",
       "      <td>0</td>\n",
       "    </tr>\n",
       "    <tr>\n",
       "      <th>4</th>\n",
       "      <td>@cacocardassi homem aranha, óbvio!!</td>\n",
       "      <td>1</td>\n",
       "      <td>0</td>\n",
       "    </tr>\n",
       "    <tr>\n",
       "      <th>5</th>\n",
       "      <td>@racionalxbox @gamerspubbr só o homem aranha j...</td>\n",
       "      <td>1</td>\n",
       "      <td>0</td>\n",
       "    </tr>\n",
       "    <tr>\n",
       "      <th>6</th>\n",
       "      <td>sim eu sou viúvo de tobey maguire e andrew gar...</td>\n",
       "      <td>1</td>\n",
       "      <td>0</td>\n",
       "    </tr>\n",
       "    <tr>\n",
       "      <th>7</th>\n",
       "      <td>@caduaroso pinguim e falcone são mafiosos\\nban...</td>\n",
       "      <td>0</td>\n",
       "      <td>0</td>\n",
       "    </tr>\n",
       "    <tr>\n",
       "      <th>8</th>\n",
       "      <td>toda vez que eu comento num post do dalau q eu...</td>\n",
       "      <td>0</td>\n",
       "      <td>0</td>\n",
       "    </tr>\n",
       "    <tr>\n",
       "      <th>9</th>\n",
       "      <td>jogo do homem aranha 2 e do wolverine anunciad...</td>\n",
       "      <td>0</td>\n",
       "      <td>0</td>\n",
       "    </tr>\n",
       "    <tr>\n",
       "      <th>10</th>\n",
       "      <td>@jastiferispinn não, mas com o lançamento do n...</td>\n",
       "      <td>1</td>\n",
       "      <td>0</td>\n",
       "    </tr>\n",
       "    <tr>\n",
       "      <th>11</th>\n",
       "      <td>esses últimos dias nem tô sentindo tanta neces...</td>\n",
       "      <td>0</td>\n",
       "      <td>0</td>\n",
       "    </tr>\n",
       "    <tr>\n",
       "      <th>12</th>\n",
       "      <td>anúncio de jogo do wolverine, homem aranha 2, ...</td>\n",
       "      <td>0</td>\n",
       "      <td>0</td>\n",
       "    </tr>\n",
       "    <tr>\n",
       "      <th>13</th>\n",
       "      <td>ou só queria falar aqui que o andrew garfield ...</td>\n",
       "      <td>1</td>\n",
       "      <td>0</td>\n",
       "    </tr>\n",
       "    <tr>\n",
       "      <th>14</th>\n",
       "      <td>queria jogar homem aranha porem o preço n abai...</td>\n",
       "      <td>1</td>\n",
       "      <td>0</td>\n",
       "    </tr>\n",
       "    <tr>\n",
       "      <th>15</th>\n",
       "      <td>teve homem aranha 2 tbm vsf</td>\n",
       "      <td>1</td>\n",
       "      <td>0</td>\n",
       "    </tr>\n",
       "    <tr>\n",
       "      <th>16</th>\n",
       "      <td>sim,eu vou fazer uma tatuagem do homem aranha ...</td>\n",
       "      <td>1</td>\n",
       "      <td>0</td>\n",
       "    </tr>\n",
       "    <tr>\n",
       "      <th>17</th>\n",
       "      <td>ai ai como te amo homem aranha https://t.co/iu...</td>\n",
       "      <td>1</td>\n",
       "      <td>0</td>\n",
       "    </tr>\n",
       "    <tr>\n",
       "      <th>18</th>\n",
       "      <td>eu dou minha bunda pra quem me dar um ps5 eu p...</td>\n",
       "      <td>0</td>\n",
       "      <td>0</td>\n",
       "    </tr>\n",
       "    <tr>\n",
       "      <th>19</th>\n",
       "      <td>wolwerine, homem aranha 2, god of war 2, uncha...</td>\n",
       "      <td>0</td>\n",
       "      <td>0</td>\n",
       "    </tr>\n",
       "    <tr>\n",
       "      <th>20</th>\n",
       "      <td>não estou preparado para a estreia de matriz 4...</td>\n",
       "      <td>0</td>\n",
       "      <td>0</td>\n",
       "    </tr>\n",
       "    <tr>\n",
       "      <th>21</th>\n",
       "      <td>maratona homem-aranha\\n\\nhomem aranha (2002) ✅</td>\n",
       "      <td>0</td>\n",
       "      <td>0</td>\n",
       "    </tr>\n",
       "    <tr>\n",
       "      <th>22</th>\n",
       "      <td>eu e quem na estreia de homem aranha?!?! ningu...</td>\n",
       "      <td>1</td>\n",
       "      <td>0</td>\n",
       "    </tr>\n",
       "    <tr>\n",
       "      <th>23</th>\n",
       "      <td>@julyarsants @marcvhess2 @batatinhageek snyder...</td>\n",
       "      <td>1</td>\n",
       "      <td>0</td>\n",
       "    </tr>\n",
       "    <tr>\n",
       "      <th>24</th>\n",
       "      <td>matrix 4 🤝 homem-aranha 3\\n\\nser lançado em 16...</td>\n",
       "      <td>0</td>\n",
       "      <td>0</td>\n",
       "    </tr>\n",
       "  </tbody>\n",
       "</table>\n",
       "</div>"
      ],
      "text/plain": [
       "                                                Teste  Classificação  \\\n",
       "0                                    amo homem aranha              1   \n",
       "1   @drika_nozes na verdade esse é o plot de homem...              0   \n",
       "2   @vicgabil @cinepop falou que vai estrear na me...              0   \n",
       "3   @goodnerd23 os dois👍 só n sei como vou aguenta...              0   \n",
       "4                 @cacocardassi homem aranha, óbvio!!              1   \n",
       "5   @racionalxbox @gamerspubbr só o homem aranha j...              1   \n",
       "6   sim eu sou viúvo de tobey maguire e andrew gar...              1   \n",
       "7   @caduaroso pinguim e falcone são mafiosos\\nban...              0   \n",
       "8   toda vez que eu comento num post do dalau q eu...              0   \n",
       "9   jogo do homem aranha 2 e do wolverine anunciad...              0   \n",
       "10  @jastiferispinn não, mas com o lançamento do n...              1   \n",
       "11  esses últimos dias nem tô sentindo tanta neces...              0   \n",
       "12  anúncio de jogo do wolverine, homem aranha 2, ...              0   \n",
       "13  ou só queria falar aqui que o andrew garfield ...              1   \n",
       "14  queria jogar homem aranha porem o preço n abai...              1   \n",
       "15                        teve homem aranha 2 tbm vsf              1   \n",
       "16  sim,eu vou fazer uma tatuagem do homem aranha ...              1   \n",
       "17  ai ai como te amo homem aranha https://t.co/iu...              1   \n",
       "18  eu dou minha bunda pra quem me dar um ps5 eu p...              0   \n",
       "19  wolwerine, homem aranha 2, god of war 2, uncha...              0   \n",
       "20  não estou preparado para a estreia de matriz 4...              0   \n",
       "21     maratona homem-aranha\\n\\nhomem aranha (2002) ✅              0   \n",
       "22  eu e quem na estreia de homem aranha?!?! ningu...              1   \n",
       "23  @julyarsants @marcvhess2 @batatinhageek snyder...              1   \n",
       "24  matrix 4 🤝 homem-aranha 3\\n\\nser lançado em 16...              0   \n",
       "\n",
       "    Algoritmo  \n",
       "0           0  \n",
       "1           0  \n",
       "2           0  \n",
       "3           0  \n",
       "4           0  \n",
       "5           0  \n",
       "6           0  \n",
       "7           0  \n",
       "8           0  \n",
       "9           0  \n",
       "10          0  \n",
       "11          0  \n",
       "12          0  \n",
       "13          0  \n",
       "14          0  \n",
       "15          0  \n",
       "16          0  \n",
       "17          0  \n",
       "18          0  \n",
       "19          0  \n",
       "20          0  \n",
       "21          0  \n",
       "22          0  \n",
       "23          0  \n",
       "24          0  "
      ]
     },
     "execution_count": 25,
     "metadata": {},
     "output_type": "execute_result"
    }
   ],
   "source": [
    "test.loc[:, 'Algoritmo'] = classifica(test)\n",
    "test.head(25)"
   ]
  },
  {
   "cell_type": "code",
   "execution_count": 28,
   "metadata": {},
   "outputs": [
    {
     "name": "stdout",
     "output_type": "stream",
     "text": [
      "[0, 0, 0, 0, 0, 0, 0, 0, 0, 0, 0, 0, 0, 0, 0, 0, 0, 0, 0, 0, 0, 0, 0, 0, 0, 0, 0, 0, 0, 0, 0, 0, 0, 0, 0, 1, 0, 0, 0, 0, 0, 0, 0, 0, 0, 0, 0, 0, 0, 0, 0, 0, 0, 0, 0, 0, 0, 0, 0, 0, 0, 0, 0, 0, 0, 0, 0, 0, 0, 0, 0, 0, 0, 0, 0, 0, 0, 0, 0, 0, 0, 0, 0, 0, 0, 0, 0, 0, 0, 0, 0, 0, 0, 0, 0, 0, 0, 0, 0, 0, 0, 0, 0, 0, 0, 0, 0, 0, 0, 0, 1, 0, 0, 0, 0, 0, 0, 0, 0, 0, 0, 0, 0, 0, 0, 0, 0, 0, 0, 0, 0, 0, 0, 0, 0, 0, 0, 0, 0, 0, 0, 0, 0, 0, 0, 0, 0, 0, 0, 0, 0, 0, 0, 0, 0, 0, 0, 0, 1, 0, 0, 0, 0, 0, 0, 0, 0, 0, 0, 0, 0, 0, 0, 0, 0, 0, 0, 0, 1, 0, 0, 0, 0, 0, 0, 0, 0, 0, 0, 0, 0, 0, 0, 0, 0, 0, 0, 0, 0, 0]\n"
     ]
    }
   ],
   "source": [
    "# Teste sem probRDadoPalavra e probIDadoPalavra\n",
    "\n",
    "def classifica(dataframe):\n",
    "    algoritmo = []\n",
    "\n",
    "    for frase in teste1(dataframe):\n",
    "        probPalavraDadoR = 1\n",
    "        probPalavraDadoI = 1\n",
    "        for palavra in frase:\n",
    "            if not palavra in relevantes.keys():\n",
    "                relevantes[palavra] = 0\n",
    "            if not palavra in irrelevantes.keys():\n",
    "                irrelevantes[palavra] = 0\n",
    "            \n",
    "            probPalavraDadoR *= (relevantes[palavra] + 1)/(len(relevantes) + total)\n",
    "            probPalavraDadoI *= (irrelevantes[palavra] + 1)/(len(irrelevantes) + total)\n",
    "\n",
    "#         probRDadoPalavra = probPalavraDadoR*probR\n",
    "#         probIDadoPalavra = probPalavraDadoI*probI\n",
    "        \n",
    "        if probPalavraDadoR > probPalavraDadoI:\n",
    "            algoritmo.append(1)\n",
    "        else:\n",
    "            algoritmo.append(0)\n",
    "    return algoritmo\n",
    "\n",
    "print(classifica(test))"
   ]
  },
  {
   "cell_type": "code",
   "execution_count": 29,
   "metadata": {},
   "outputs": [
    {
     "data": {
      "text/html": [
       "<div>\n",
       "<style scoped>\n",
       "    .dataframe tbody tr th:only-of-type {\n",
       "        vertical-align: middle;\n",
       "    }\n",
       "\n",
       "    .dataframe tbody tr th {\n",
       "        vertical-align: top;\n",
       "    }\n",
       "\n",
       "    .dataframe thead th {\n",
       "        text-align: right;\n",
       "    }\n",
       "</style>\n",
       "<table border=\"1\" class=\"dataframe\">\n",
       "  <thead>\n",
       "    <tr style=\"text-align: right;\">\n",
       "      <th></th>\n",
       "      <th>Teste</th>\n",
       "      <th>Classificação</th>\n",
       "      <th>Algoritmo</th>\n",
       "    </tr>\n",
       "  </thead>\n",
       "  <tbody>\n",
       "    <tr>\n",
       "      <th>0</th>\n",
       "      <td>amo homem aranha</td>\n",
       "      <td>1</td>\n",
       "      <td>0</td>\n",
       "    </tr>\n",
       "    <tr>\n",
       "      <th>1</th>\n",
       "      <td>@drika_nozes na verdade esse é o plot de homem...</td>\n",
       "      <td>0</td>\n",
       "      <td>0</td>\n",
       "    </tr>\n",
       "    <tr>\n",
       "      <th>2</th>\n",
       "      <td>@vicgabil @cinepop falou que vai estrear na me...</td>\n",
       "      <td>0</td>\n",
       "      <td>0</td>\n",
       "    </tr>\n",
       "    <tr>\n",
       "      <th>3</th>\n",
       "      <td>@goodnerd23 os dois👍 só n sei como vou aguenta...</td>\n",
       "      <td>0</td>\n",
       "      <td>0</td>\n",
       "    </tr>\n",
       "    <tr>\n",
       "      <th>4</th>\n",
       "      <td>@cacocardassi homem aranha, óbvio!!</td>\n",
       "      <td>1</td>\n",
       "      <td>0</td>\n",
       "    </tr>\n",
       "    <tr>\n",
       "      <th>5</th>\n",
       "      <td>@racionalxbox @gamerspubbr só o homem aranha j...</td>\n",
       "      <td>1</td>\n",
       "      <td>0</td>\n",
       "    </tr>\n",
       "    <tr>\n",
       "      <th>6</th>\n",
       "      <td>sim eu sou viúvo de tobey maguire e andrew gar...</td>\n",
       "      <td>1</td>\n",
       "      <td>0</td>\n",
       "    </tr>\n",
       "    <tr>\n",
       "      <th>7</th>\n",
       "      <td>@caduaroso pinguim e falcone são mafiosos\\nban...</td>\n",
       "      <td>0</td>\n",
       "      <td>0</td>\n",
       "    </tr>\n",
       "    <tr>\n",
       "      <th>8</th>\n",
       "      <td>toda vez que eu comento num post do dalau q eu...</td>\n",
       "      <td>0</td>\n",
       "      <td>0</td>\n",
       "    </tr>\n",
       "    <tr>\n",
       "      <th>9</th>\n",
       "      <td>jogo do homem aranha 2 e do wolverine anunciad...</td>\n",
       "      <td>0</td>\n",
       "      <td>0</td>\n",
       "    </tr>\n",
       "    <tr>\n",
       "      <th>10</th>\n",
       "      <td>@jastiferispinn não, mas com o lançamento do n...</td>\n",
       "      <td>1</td>\n",
       "      <td>0</td>\n",
       "    </tr>\n",
       "    <tr>\n",
       "      <th>11</th>\n",
       "      <td>esses últimos dias nem tô sentindo tanta neces...</td>\n",
       "      <td>0</td>\n",
       "      <td>0</td>\n",
       "    </tr>\n",
       "    <tr>\n",
       "      <th>12</th>\n",
       "      <td>anúncio de jogo do wolverine, homem aranha 2, ...</td>\n",
       "      <td>0</td>\n",
       "      <td>0</td>\n",
       "    </tr>\n",
       "    <tr>\n",
       "      <th>13</th>\n",
       "      <td>ou só queria falar aqui que o andrew garfield ...</td>\n",
       "      <td>1</td>\n",
       "      <td>0</td>\n",
       "    </tr>\n",
       "    <tr>\n",
       "      <th>14</th>\n",
       "      <td>queria jogar homem aranha porem o preço n abai...</td>\n",
       "      <td>1</td>\n",
       "      <td>0</td>\n",
       "    </tr>\n",
       "    <tr>\n",
       "      <th>15</th>\n",
       "      <td>teve homem aranha 2 tbm vsf</td>\n",
       "      <td>1</td>\n",
       "      <td>0</td>\n",
       "    </tr>\n",
       "    <tr>\n",
       "      <th>16</th>\n",
       "      <td>sim,eu vou fazer uma tatuagem do homem aranha ...</td>\n",
       "      <td>1</td>\n",
       "      <td>0</td>\n",
       "    </tr>\n",
       "    <tr>\n",
       "      <th>17</th>\n",
       "      <td>ai ai como te amo homem aranha https://t.co/iu...</td>\n",
       "      <td>1</td>\n",
       "      <td>0</td>\n",
       "    </tr>\n",
       "    <tr>\n",
       "      <th>18</th>\n",
       "      <td>eu dou minha bunda pra quem me dar um ps5 eu p...</td>\n",
       "      <td>0</td>\n",
       "      <td>0</td>\n",
       "    </tr>\n",
       "    <tr>\n",
       "      <th>19</th>\n",
       "      <td>wolwerine, homem aranha 2, god of war 2, uncha...</td>\n",
       "      <td>0</td>\n",
       "      <td>0</td>\n",
       "    </tr>\n",
       "    <tr>\n",
       "      <th>20</th>\n",
       "      <td>não estou preparado para a estreia de matriz 4...</td>\n",
       "      <td>0</td>\n",
       "      <td>0</td>\n",
       "    </tr>\n",
       "    <tr>\n",
       "      <th>21</th>\n",
       "      <td>maratona homem-aranha\\n\\nhomem aranha (2002) ✅</td>\n",
       "      <td>0</td>\n",
       "      <td>0</td>\n",
       "    </tr>\n",
       "    <tr>\n",
       "      <th>22</th>\n",
       "      <td>eu e quem na estreia de homem aranha?!?! ningu...</td>\n",
       "      <td>1</td>\n",
       "      <td>0</td>\n",
       "    </tr>\n",
       "    <tr>\n",
       "      <th>23</th>\n",
       "      <td>@julyarsants @marcvhess2 @batatinhageek snyder...</td>\n",
       "      <td>1</td>\n",
       "      <td>0</td>\n",
       "    </tr>\n",
       "    <tr>\n",
       "      <th>24</th>\n",
       "      <td>matrix 4 🤝 homem-aranha 3\\n\\nser lançado em 16...</td>\n",
       "      <td>0</td>\n",
       "      <td>0</td>\n",
       "    </tr>\n",
       "  </tbody>\n",
       "</table>\n",
       "</div>"
      ],
      "text/plain": [
       "                                                Teste  Classificação  \\\n",
       "0                                    amo homem aranha              1   \n",
       "1   @drika_nozes na verdade esse é o plot de homem...              0   \n",
       "2   @vicgabil @cinepop falou que vai estrear na me...              0   \n",
       "3   @goodnerd23 os dois👍 só n sei como vou aguenta...              0   \n",
       "4                 @cacocardassi homem aranha, óbvio!!              1   \n",
       "5   @racionalxbox @gamerspubbr só o homem aranha j...              1   \n",
       "6   sim eu sou viúvo de tobey maguire e andrew gar...              1   \n",
       "7   @caduaroso pinguim e falcone são mafiosos\\nban...              0   \n",
       "8   toda vez que eu comento num post do dalau q eu...              0   \n",
       "9   jogo do homem aranha 2 e do wolverine anunciad...              0   \n",
       "10  @jastiferispinn não, mas com o lançamento do n...              1   \n",
       "11  esses últimos dias nem tô sentindo tanta neces...              0   \n",
       "12  anúncio de jogo do wolverine, homem aranha 2, ...              0   \n",
       "13  ou só queria falar aqui que o andrew garfield ...              1   \n",
       "14  queria jogar homem aranha porem o preço n abai...              1   \n",
       "15                        teve homem aranha 2 tbm vsf              1   \n",
       "16  sim,eu vou fazer uma tatuagem do homem aranha ...              1   \n",
       "17  ai ai como te amo homem aranha https://t.co/iu...              1   \n",
       "18  eu dou minha bunda pra quem me dar um ps5 eu p...              0   \n",
       "19  wolwerine, homem aranha 2, god of war 2, uncha...              0   \n",
       "20  não estou preparado para a estreia de matriz 4...              0   \n",
       "21     maratona homem-aranha\\n\\nhomem aranha (2002) ✅              0   \n",
       "22  eu e quem na estreia de homem aranha?!?! ningu...              1   \n",
       "23  @julyarsants @marcvhess2 @batatinhageek snyder...              1   \n",
       "24  matrix 4 🤝 homem-aranha 3\\n\\nser lançado em 16...              0   \n",
       "\n",
       "    Algoritmo  \n",
       "0           0  \n",
       "1           0  \n",
       "2           0  \n",
       "3           0  \n",
       "4           0  \n",
       "5           0  \n",
       "6           0  \n",
       "7           0  \n",
       "8           0  \n",
       "9           0  \n",
       "10          0  \n",
       "11          0  \n",
       "12          0  \n",
       "13          0  \n",
       "14          0  \n",
       "15          0  \n",
       "16          0  \n",
       "17          0  \n",
       "18          0  \n",
       "19          0  \n",
       "20          0  \n",
       "21          0  \n",
       "22          0  \n",
       "23          0  \n",
       "24          0  "
      ]
     },
     "execution_count": 29,
     "metadata": {},
     "output_type": "execute_result"
    }
   ],
   "source": [
    "test.loc[:, 'Algoritmo'] = classifica(test)\n",
    "test.head(25)"
   ]
  },
  {
   "cell_type": "markdown",
   "metadata": {},
   "source": [
    "___\n",
    "### Concluindo"
   ]
  },
  {
   "cell_type": "code",
   "execution_count": null,
   "metadata": {},
   "outputs": [],
   "source": []
  },
  {
   "cell_type": "code",
   "execution_count": null,
   "metadata": {},
   "outputs": [],
   "source": []
  },
  {
   "cell_type": "code",
   "execution_count": null,
   "metadata": {},
   "outputs": [],
   "source": []
  },
  {
   "cell_type": "markdown",
   "metadata": {},
   "source": [
    "___\n",
    "### Qualidade do Classificador a partir de novas separações dos tweets entre Treinamento e Teste\n",
    "\n",
    "Caso for fazer esse item do Projeto"
   ]
  },
  {
   "cell_type": "code",
   "execution_count": null,
   "metadata": {},
   "outputs": [],
   "source": []
  },
  {
   "cell_type": "code",
   "execution_count": null,
   "metadata": {},
   "outputs": [],
   "source": []
  },
  {
   "cell_type": "code",
   "execution_count": null,
   "metadata": {},
   "outputs": [],
   "source": []
  },
  {
   "cell_type": "markdown",
   "metadata": {},
   "source": [
    "___\n",
    "## Aperfeiçoamento:\n",
    "\n",
    "Trabalhos que conseguirem pelo menos conceito B vão evoluir em conceito dependendo da quantidade de itens avançados:\n",
    "\n",
    "* IMPLEMENTOU outras limpezas e transformações que não afetem a qualidade da informação contida nos tweets. Ex: stemming, lemmatization, stopwords\n",
    "* CORRIGIU separação de espaços entre palavras e emojis ou entre emojis e emojis\n",
    "* CRIOU categorias intermediárias de relevância baseadas na probabilidade: ex.: muito relevante, relevante, neutro, irrelevante, muito irrelevante. Pelo menos quatro categorias, com adição de mais tweets na base, conforme enunciado. (OBRIGATÓRIO PARA TRIOS, sem contar como item avançado)\n",
    "* EXPLICOU porquê não pode usar o próprio classificador para gerar mais amostras de treinamento\n",
    "* PROPÔS diferentes cenários para Naïve Bayes fora do contexto do projeto\n",
    "* SUGERIU e EXPLICOU melhorias reais com indicações concretas de como implementar (indicar como fazer e indicar material de pesquisa)\n",
    "* FEZ o item 6. Qualidade do Classificador a partir de novas separações dos tweets entre Treinamento e Teste descrito no enunciado do projeto (OBRIGATÓRIO para conceitos A ou A+)"
   ]
  },
  {
   "cell_type": "markdown",
   "metadata": {},
   "source": [
    "___\n",
    "## Referências"
   ]
  },
  {
   "cell_type": "markdown",
   "metadata": {},
   "source": [
    "[Naive Bayes and Text Classification](https://arxiv.org/pdf/1410.5329.pdf)  **Mais completo**\n",
    "\n",
    "[A practical explanation of a Naive Bayes Classifier](https://monkeylearn.com/blog/practical-explanation-naive-bayes-classifier/) **Mais simples**"
   ]
  },
  {
   "cell_type": "code",
   "execution_count": null,
   "metadata": {},
   "outputs": [],
   "source": []
  }
 ],
 "metadata": {
  "kernelspec": {
   "display_name": "Python 3",
   "language": "python",
   "name": "python3"
  },
  "language_info": {
   "codemirror_mode": {
    "name": "ipython",
    "version": 3
   },
   "file_extension": ".py",
   "mimetype": "text/x-python",
   "name": "python",
   "nbconvert_exporter": "python",
   "pygments_lexer": "ipython3",
   "version": "3.8.5"
  }
 },
 "nbformat": 4,
 "nbformat_minor": 4
}
