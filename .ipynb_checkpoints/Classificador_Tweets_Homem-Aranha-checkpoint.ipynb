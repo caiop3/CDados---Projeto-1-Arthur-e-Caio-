{
 "cells": [
  {
   "cell_type": "markdown",
   "metadata": {},
   "source": [
    "# Projeto 1 - Ciência dos Dados"
   ]
  },
  {
   "cell_type": "markdown",
   "metadata": {},
   "source": [
    "Nome: Arthur Pansini\n",
    "\n",
    "Nome: Caio Ribeiro"
   ]
  },
  {
   "cell_type": "markdown",
   "metadata": {},
   "source": [
    "Atenção: Serão permitidos grupos de três pessoas, mas com uma rubrica mais exigente. Grupos deste tamanho precisarão fazer um questionário de avaliação de trabalho em equipe"
   ]
  },
  {
   "cell_type": "markdown",
   "metadata": {},
   "source": [
    "___\n",
    "Carregando algumas bibliotecas:"
   ]
  },
  {
   "cell_type": "code",
   "execution_count": 42,
   "metadata": {},
   "outputs": [],
   "source": [
    "%matplotlib inline\n",
    "import pandas as pd\n",
    "import matplotlib.pyplot as plt\n",
    "import numpy as np\n",
    "import os \n",
    "import nltk\n",
    "import re"
   ]
  },
  {
   "cell_type": "code",
   "execution_count": 43,
   "metadata": {
    "scrolled": false
   },
   "outputs": [
    {
     "name": "stdout",
     "output_type": "stream",
     "text": [
      "Esperamos trabalhar no diretório\n",
      "C:\\Users\\caior\\OneDrive\\Faculdade\\2° PERÍODO\\Ciência dos Dados\\Projetos\\Homem-Aranha\n"
     ]
    }
   ],
   "source": [
    "print('Esperamos trabalhar no diretório')\n",
    "print(os.getcwd())"
   ]
  },
  {
   "cell_type": "markdown",
   "metadata": {},
   "source": [
    "Carregando a base de dados com os tweets classificados como relevantes e não relevantes:"
   ]
  },
  {
   "cell_type": "code",
   "execution_count": 44,
   "metadata": {},
   "outputs": [],
   "source": [
    "filename = 'Homem aranha.xlsx'"
   ]
  },
  {
   "cell_type": "code",
   "execution_count": 45,
   "metadata": {},
   "outputs": [
    {
     "data": {
      "text/html": [
       "<div>\n",
       "<style scoped>\n",
       "    .dataframe tbody tr th:only-of-type {\n",
       "        vertical-align: middle;\n",
       "    }\n",
       "\n",
       "    .dataframe tbody tr th {\n",
       "        vertical-align: top;\n",
       "    }\n",
       "\n",
       "    .dataframe thead th {\n",
       "        text-align: right;\n",
       "    }\n",
       "</style>\n",
       "<table border=\"1\" class=\"dataframe\">\n",
       "  <thead>\n",
       "    <tr style=\"text-align: right;\">\n",
       "      <th></th>\n",
       "      <th>Treinamento</th>\n",
       "      <th>Classificação</th>\n",
       "    </tr>\n",
       "  </thead>\n",
       "  <tbody>\n",
       "    <tr>\n",
       "      <th>0</th>\n",
       "      <td>tá, com \"god of war: ragnarok\", \"homem-aranha ...</td>\n",
       "      <td>0</td>\n",
       "    </tr>\n",
       "    <tr>\n",
       "      <th>1</th>\n",
       "      <td>@flamenguismo_ @venecasagrande os cara se enco...</td>\n",
       "      <td>0</td>\n",
       "    </tr>\n",
       "    <tr>\n",
       "      <th>2</th>\n",
       "      <td>assisti venom e amei. agora vou ver todos os f...</td>\n",
       "      <td>0</td>\n",
       "    </tr>\n",
       "    <tr>\n",
       "      <th>3</th>\n",
       "      <td>@gabriel71551446 @oswaldooell @n3m_ai @xboxnat...</td>\n",
       "      <td>0</td>\n",
       "    </tr>\n",
       "    <tr>\n",
       "      <th>4</th>\n",
       "      <td>sério mesmo, eu quero muito assistir homem ara...</td>\n",
       "      <td>0</td>\n",
       "    </tr>\n",
       "  </tbody>\n",
       "</table>\n",
       "</div>"
      ],
      "text/plain": [
       "                                         Treinamento  Classificação\n",
       "0  tá, com \"god of war: ragnarok\", \"homem-aranha ...              0\n",
       "1  @flamenguismo_ @venecasagrande os cara se enco...              0\n",
       "2  assisti venom e amei. agora vou ver todos os f...              0\n",
       "3  @gabriel71551446 @oswaldooell @n3m_ai @xboxnat...              0\n",
       "4  sério mesmo, eu quero muito assistir homem ara...              0"
      ]
     },
     "execution_count": 45,
     "metadata": {},
     "output_type": "execute_result"
    }
   ],
   "source": [
    "train = pd.read_excel(filename)\n",
    "train.head()"
   ]
  },
  {
   "cell_type": "code",
   "execution_count": 46,
   "metadata": {},
   "outputs": [
    {
     "data": {
      "text/html": [
       "<div>\n",
       "<style scoped>\n",
       "    .dataframe tbody tr th:only-of-type {\n",
       "        vertical-align: middle;\n",
       "    }\n",
       "\n",
       "    .dataframe tbody tr th {\n",
       "        vertical-align: top;\n",
       "    }\n",
       "\n",
       "    .dataframe thead th {\n",
       "        text-align: right;\n",
       "    }\n",
       "</style>\n",
       "<table border=\"1\" class=\"dataframe\">\n",
       "  <thead>\n",
       "    <tr style=\"text-align: right;\">\n",
       "      <th></th>\n",
       "      <th>Teste</th>\n",
       "      <th>Classificação</th>\n",
       "    </tr>\n",
       "  </thead>\n",
       "  <tbody>\n",
       "    <tr>\n",
       "      <th>0</th>\n",
       "      <td>amo homem aranha</td>\n",
       "      <td>1</td>\n",
       "    </tr>\n",
       "    <tr>\n",
       "      <th>1</th>\n",
       "      <td>@drika_nozes na verdade esse é o plot de homem...</td>\n",
       "      <td>0</td>\n",
       "    </tr>\n",
       "    <tr>\n",
       "      <th>2</th>\n",
       "      <td>@vicgabil @cinepop falou que vai estrear na me...</td>\n",
       "      <td>0</td>\n",
       "    </tr>\n",
       "    <tr>\n",
       "      <th>3</th>\n",
       "      <td>@goodnerd23 os dois👍 só n sei como vou aguenta...</td>\n",
       "      <td>0</td>\n",
       "    </tr>\n",
       "    <tr>\n",
       "      <th>4</th>\n",
       "      <td>@cacocardassi homem aranha, óbvio!!</td>\n",
       "      <td>1</td>\n",
       "    </tr>\n",
       "  </tbody>\n",
       "</table>\n",
       "</div>"
      ],
      "text/plain": [
       "                                               Teste  Classificação\n",
       "0                                   amo homem aranha              1\n",
       "1  @drika_nozes na verdade esse é o plot de homem...              0\n",
       "2  @vicgabil @cinepop falou que vai estrear na me...              0\n",
       "3  @goodnerd23 os dois👍 só n sei como vou aguenta...              0\n",
       "4                @cacocardassi homem aranha, óbvio!!              1"
      ]
     },
     "execution_count": 46,
     "metadata": {},
     "output_type": "execute_result"
    }
   ],
   "source": [
    "test = pd.read_excel(filename, sheet_name = 'Teste')\n",
    "test.head()"
   ]
  },
  {
   "cell_type": "markdown",
   "metadata": {},
   "source": [
    "___\n",
    "## Classificador automático de sentimento\n"
   ]
  },
  {
   "cell_type": "markdown",
   "metadata": {},
   "source": [
    "Faça aqui uma descrição do seu produto e o que considerou como relevante ou não relevante na classificação dos tweets.\n",
    "\n",
    "**Descrição:** Consideramos relevante todo comentário referente ao universo Homem-Aranha (quadrinhos, filmes e jogos) e principalmente opiniões do público geral referente às obras do Homem-Aranha."
   ]
  },
  {
   "cell_type": "markdown",
   "metadata": {},
   "source": [
    "___\n",
    "### Montando um Classificador Naive-Bayes\n",
    "\n",
    "Considerando apenas as mensagens da planilha Treinamento, ensine  seu classificador."
   ]
  },
  {
   "cell_type": "code",
   "execution_count": 245,
   "metadata": {},
   "outputs": [
    {
     "name": "stdout",
     "output_type": "stream",
     "text": [
      "caio ribeiro\n"
     ]
    }
   ],
   "source": [
    "# Retirando pontuações dos tweets\n",
    "def cleanup(tweet):\n",
    "    punctuation = '[(\\n”\\-/!.:?;,''\"#)]'             \n",
    "    pattern = re.compile(punctuation)\n",
    "    text_subbed = re.sub(pattern,'', tweet)\n",
    "    return text_subbed\n",
    "print(cleanup('caio ribeiro!'))"
   ]
  },
  {
   "cell_type": "code",
   "execution_count": 120,
   "metadata": {},
   "outputs": [],
   "source": [
    "def limpa_marcacao(lista):\n",
    "    sem_marc = []\n",
    "    for palavra in lista:\n",
    "        if not 'https' in palavra:\n",
    "            if not '@' in palavra:\n",
    "                sem_marc.append(palavra)\n",
    "        else:\n",
    "            continue\n",
    "    return sem_marc"
   ]
  },
  {
   "cell_type": "code",
   "execution_count": 268,
   "metadata": {},
   "outputs": [],
   "source": [
    "def limpa_marcacao1(linha):\n",
    "    sem_marc = []\n",
    "    for palavra in linha.split():\n",
    "        if not 'https' in palavra:\n",
    "            if not '@' in palavra:\n",
    "                sem_marc.append(palavra)\n",
    "        else:\n",
    "            continue\n",
    "    return sem_marc\n",
    "# print(limpa_marcacao1('caio @ribeirop de https://sjsjs nao sei '))"
   ]
  },
  {
   "cell_type": "code",
   "execution_count": 269,
   "metadata": {},
   "outputs": [],
   "source": [
    "# nltk.download('stopwords')\n",
    "# prep = nltk.corpus.stopwords.words('portuguese')\n",
    "# prep.append('pra')\n",
    "\n",
    "# def limpa_preposicao(lista):\n",
    "#     sem_prep=[]     \n",
    "#     for palavra in lista: \n",
    "#         if not palavra in prep: \n",
    "#             sem_prep.append(palavra)\n",
    "#     return sem_prep"
   ]
  },
  {
   "cell_type": "code",
   "execution_count": 270,
   "metadata": {},
   "outputs": [],
   "source": [
    "# def aplica(dataframe):\n",
    "#     frases = []\n",
    "#     for linha in dataframe.Treinamento:\n",
    "#         linha = cleanup(linha)\n",
    "#         for palavra in limpa_preposicao(linha.split()):\n",
    "#             frases.append(palavra)\n",
    "#     return frases"
   ]
  },
  {
   "cell_type": "code",
   "execution_count": 271,
   "metadata": {},
   "outputs": [],
   "source": [
    "def treinamento(dataframe):\n",
    "    palavras = []\n",
    "    for linha in dataframe.Treinamento:\n",
    "        linha = cleanup(linha)\n",
    "        for palavra in limpa_marcacao(linha.split()):\n",
    "            palavras.append(palavra)\n",
    "    return palavras"
   ]
  },
  {
   "cell_type": "code",
   "execution_count": 290,
   "metadata": {},
   "outputs": [],
   "source": [
    "def treinamento1(dataframe):\n",
    "    frases = []\n",
    "    for linha in dataframe.Treinamento:\n",
    "        linha = limpa_marcacao1(cleanup(linha))\n",
    "        frases.append(linha)\n",
    "    return frases"
   ]
  },
  {
   "cell_type": "code",
   "execution_count": 308,
   "metadata": {},
   "outputs": [],
   "source": [
    "train1 = train.loc[train.Classificação == 1]\n",
    "train2 = train.loc[train.Classificação == 0]"
   ]
  },
  {
   "cell_type": "code",
   "execution_count": 274,
   "metadata": {},
   "outputs": [],
   "source": [
    "# print(treinamento(train1))"
   ]
  },
  {
   "cell_type": "code",
   "execution_count": 314,
   "metadata": {},
   "outputs": [],
   "source": [
    "train_limpo = []\n",
    "for frase in treinamento1(train1):\n",
    "    frase = ','.join(frase)\n",
    "    train_limpo.append(frase)\n",
    "\n",
    "train1.loc[:, 'Filtro'] = train_limpo"
   ]
  },
  {
   "cell_type": "code",
   "execution_count": 130,
   "metadata": {},
   "outputs": [],
   "source": [
    "palavras_relevantes = pd.Series(treinamento(train1))\n",
    "palavras_irrelevantes = pd.Series(treinamento(train2))"
   ]
  },
  {
   "cell_type": "code",
   "execution_count": 304,
   "metadata": {},
   "outputs": [],
   "source": [
    "relevantes = palavras_relevantes.value_counts()\n",
    "irrelevantes = palavras_irrelevantes.value_counts()"
   ]
  },
  {
   "cell_type": "code",
   "execution_count": 306,
   "metadata": {},
   "outputs": [],
   "source": [
    "total = len(relevantes) + len(irrelevantes)"
   ]
  },
  {
   "cell_type": "code",
   "execution_count": 307,
   "metadata": {},
   "outputs": [],
   "source": [
    "relevantes_rel = palavras_relevantes.value_counts(True)\n",
    "irrelevantes_rel = palavras_irrelevantes.value_counts(True)"
   ]
  },
  {
   "cell_type": "code",
   "execution_count": 177,
   "metadata": {},
   "outputs": [],
   "source": [
    "total_relevantes = relevantes.sum()\n",
    "total_irrelevantes = irrelevantes.sum()"
   ]
  },
  {
   "cell_type": "markdown",
   "metadata": {},
   "source": [
    "___\n",
    "### Verificando a performance do Classificador\n",
    "\n",
    "Agora você deve testar o seu classificador com a base de Testes."
   ]
  },
  {
   "cell_type": "code",
   "execution_count": 241,
   "metadata": {},
   "outputs": [],
   "source": [
    "def teste(dataframe):\n",
    "    palavras = []\n",
    "    for linha in dataframe.Teste:\n",
    "        linha = cleanup(linha)\n",
    "        for palavra in limpa_marcacao(linha.split()):\n",
    "            palavras.append(palavra)\n",
    "    return palavras"
   ]
  },
  {
   "cell_type": "code",
   "execution_count": 316,
   "metadata": {},
   "outputs": [],
   "source": [
    "def teste1(dataframe):\n",
    "    frases = []\n",
    "    for linha in dataframe.Teste:\n",
    "        linha = limpa_marcacao1(cleanup(linha))\n",
    "        frases.append(linha)\n",
    "    return frases"
   ]
  },
  {
   "cell_type": "code",
   "execution_count": 320,
   "metadata": {},
   "outputs": [],
   "source": [
    "test_limpo = []\n",
    "for frase in teste1(test1):\n",
    "    frase = ','.join(frase)\n",
    "    test_limpo.append(frase)\n",
    "\n",
    "test1.loc[:, 'Filtro'] = test_limpo"
   ]
  },
  {
   "cell_type": "code",
   "execution_count": 321,
   "metadata": {},
   "outputs": [],
   "source": [
    "test1 = test.loc[test.Classificação == 1]\n",
    "test2 = test.loc[test.Classificação == 0]"
   ]
  },
  {
   "cell_type": "code",
   "execution_count": 231,
   "metadata": {},
   "outputs": [],
   "source": [
    "probR = total_relevantes/(total_relevantes+total_irrelevantes)\n",
    "probI = total_irrelevantes/(total_relevantes+total_irrelevantes)"
   ]
  },
  {
   "cell_type": "code",
   "execution_count": null,
   "metadata": {},
   "outputs": [],
   "source": [
    "def P_tweet_i (tweet):\n",
    "    prob_tweet=1 \n",
    "    quebra_tweet=tweet.split(',')\n",
    "    for palavra in quebra_tweet:\n",
    "        fa=freq_absoluta(palavra,rel_irrelevantes)\n",
    "        prob_palavra=laplace(fa,list_i)\n",
    "        prob_tweet*=prob_palavra\n",
    "           \n",
    "    return prob_tweet"
   ]
  },
  {
   "cell_type": "code",
   "execution_count": 221,
   "metadata": {},
   "outputs": [],
   "source": [
    "def independencia_r(tweet):\n",
    "    probPalavraDadoR = 1\n",
    "    for palavra in tweet:\n",
    "        print(q)\n",
    "        probPalavraDadoR *= (q + 1)/(len(relevantes) + total)\n",
    "    return probPalavraDadoR"
   ]
  },
  {
   "cell_type": "code",
   "execution_count": 233,
   "metadata": {},
   "outputs": [
    {
     "name": "stdout",
     "output_type": "stream",
     "text": [
      "0.0\n"
     ]
    }
   ],
   "source": [
    "def independencia_i(Series):\n",
    "    probPalavraDadoI = 1\n",
    "    for q in Series:\n",
    "        probPalavraDadoI *= (q + 1)/(len(irrelevantes) + total)\n",
    "    return probPalavraDadoI\n",
    "print(independencia_i(irrelevantes))"
   ]
  },
  {
   "cell_type": "code",
   "execution_count": 188,
   "metadata": {},
   "outputs": [
    {
     "data": {
      "text/plain": [
       "0.0"
      ]
     },
     "execution_count": 188,
     "metadata": {},
     "output_type": "execute_result"
    }
   ],
   "source": [
    "probRDadoFrase = independencia_r(relevantes)*probR\n",
    "probIDadoFrase = independencia_i(irrelevantes)*probI\n",
    "probIDadoFrase"
   ]
  },
  {
   "cell_type": "code",
   "execution_count": null,
   "metadata": {},
   "outputs": [],
   "source": []
  },
  {
   "cell_type": "markdown",
   "metadata": {},
   "source": [
    "___\n",
    "### Concluindo"
   ]
  },
  {
   "cell_type": "code",
   "execution_count": null,
   "metadata": {},
   "outputs": [],
   "source": []
  },
  {
   "cell_type": "code",
   "execution_count": null,
   "metadata": {},
   "outputs": [],
   "source": []
  },
  {
   "cell_type": "code",
   "execution_count": null,
   "metadata": {},
   "outputs": [],
   "source": []
  },
  {
   "cell_type": "markdown",
   "metadata": {},
   "source": [
    "___\n",
    "### Qualidade do Classificador a partir de novas separações dos tweets entre Treinamento e Teste\n",
    "\n",
    "Caso for fazer esse item do Projeto"
   ]
  },
  {
   "cell_type": "code",
   "execution_count": null,
   "metadata": {},
   "outputs": [],
   "source": []
  },
  {
   "cell_type": "code",
   "execution_count": null,
   "metadata": {},
   "outputs": [],
   "source": []
  },
  {
   "cell_type": "code",
   "execution_count": null,
   "metadata": {},
   "outputs": [],
   "source": []
  },
  {
   "cell_type": "markdown",
   "metadata": {},
   "source": [
    "___\n",
    "## Aperfeiçoamento:\n",
    "\n",
    "Trabalhos que conseguirem pelo menos conceito B vão evoluir em conceito dependendo da quantidade de itens avançados:\n",
    "\n",
    "* IMPLEMENTOU outras limpezas e transformações que não afetem a qualidade da informação contida nos tweets. Ex: stemming, lemmatization, stopwords\n",
    "* CORRIGIU separação de espaços entre palavras e emojis ou entre emojis e emojis\n",
    "* CRIOU categorias intermediárias de relevância baseadas na probabilidade: ex.: muito relevante, relevante, neutro, irrelevante, muito irrelevante. Pelo menos quatro categorias, com adição de mais tweets na base, conforme enunciado. (OBRIGATÓRIO PARA TRIOS, sem contar como item avançado)\n",
    "* EXPLICOU porquê não pode usar o próprio classificador para gerar mais amostras de treinamento\n",
    "* PROPÔS diferentes cenários para Naïve Bayes fora do contexto do projeto\n",
    "* SUGERIU e EXPLICOU melhorias reais com indicações concretas de como implementar (indicar como fazer e indicar material de pesquisa)\n",
    "* FEZ o item 6. Qualidade do Classificador a partir de novas separações dos tweets entre Treinamento e Teste descrito no enunciado do projeto (OBRIGATÓRIO para conceitos A ou A+)"
   ]
  },
  {
   "cell_type": "markdown",
   "metadata": {},
   "source": [
    "___\n",
    "## Referências"
   ]
  },
  {
   "cell_type": "markdown",
   "metadata": {},
   "source": [
    "[Naive Bayes and Text Classification](https://arxiv.org/pdf/1410.5329.pdf)  **Mais completo**\n",
    "\n",
    "[A practical explanation of a Naive Bayes Classifier](https://monkeylearn.com/blog/practical-explanation-naive-bayes-classifier/) **Mais simples**"
   ]
  },
  {
   "cell_type": "code",
   "execution_count": null,
   "metadata": {},
   "outputs": [],
   "source": []
  }
 ],
 "metadata": {
  "kernelspec": {
   "display_name": "Python 3",
   "language": "python",
   "name": "python3"
  },
  "language_info": {
   "codemirror_mode": {
    "name": "ipython",
    "version": 3
   },
   "file_extension": ".py",
   "mimetype": "text/x-python",
   "name": "python",
   "nbconvert_exporter": "python",
   "pygments_lexer": "ipython3",
   "version": "3.8.5"
  }
 },
 "nbformat": 4,
 "nbformat_minor": 4
}
